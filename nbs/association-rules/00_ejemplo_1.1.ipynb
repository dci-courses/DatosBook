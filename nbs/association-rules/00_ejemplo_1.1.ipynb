{
 "cells": [
  {
   "cell_type": "markdown",
   "metadata": {},
   "source": [
    "## Introducción a las Reglas de Asociación\n",
    "\n",
    "Las reglas de asociación son una técnica de minería de datos que permite descubrir relaciones interesantes entre variables en grandes conjuntos de datos. Estas reglas son especialmente útiles en el análisis de datos de transacciones, como los registros de ventas en un supermercado. Vamos a crear un ejemplo didáctico para entender cómo funcionan.\n",
    "\n"
   ]
  },
  {
   "cell_type": "markdown",
   "metadata": {},
   "source": [
    "### Definiciones \n",
    "\n",
    "**Ítem (Item)**: Un ítem es un producto o artículo individual que se vende en una transacción. En el contexto de las reglas de asociación, un conjunto de ítems se refiere a uno o más productos que se compran juntos en una transacción.\n",
    "\n",
    "1. **Soporte (Support)**: Es la proporción de transacciones que contienen un conjunto de ítems específico. Ayuda a identificar cuán común es un conjunto de ítems en el conjunto de datos.\n",
    "   \n",
    "    $$\n",
    "    \\text{Soporte} = \\frac{\\text{Número de transacciones que contienen el conjunto de ítems}}{\\text{Número total de transacciones}}\n",
    "    $$\n",
    "\n",
    "   - **Explicación**: \n",
    "     - El soporte mide la frecuencia con la que un conjunto de ítems aparece en el conjunto de datos. \n",
    "     - Es útil porque nos ayuda a identificar cuáles combinaciones de productos son comunes en nuestras transacciones. \n",
    "     - Por ejemplo, si el soporte de \"leche y pan\" es alto, significa que estos productos se compran juntos con frecuencia.\n",
    "\n",
    "2. **Confianza (Confidence)**: Es la proporción de transacciones que contienen el conjunto de ítems A que también contienen el conjunto de ítems B. Indica la probabilidad de que B se compre cuando A se compra.\n",
    "   \n",
    "    $$\n",
    "    \\text{Confianza}(A \\rightarrow B) = \\frac{\\text{Soporte}(A \\cup B)}{\\text{Soporte}(A)}\n",
    "    $$\n",
    "\n",
    "   - **Explicación**: \n",
    "     - La confianza mide la probabilidad de que el ítem B sea comprado cuando el ítem A ya ha sido comprado. \n",
    "     - Es útil para entender la fuerza de la regla de asociación. \n",
    "     - Por ejemplo, una confianza del 75% para la regla \"leche $\\rightarrow$ pan\" significa que el 75% de las veces que los clientes compran leche, también compran pan.\n",
    "\n",
    "3. **Lift**: Mide la relación entre la ocurrencia de A y B. Indica cuánto más probable es que B se compre cuando A se compra, en comparación con la probabilidad de comprar B sin A.\n",
    "   \n",
    "    $$\n",
    "    \\text{Lift}(A \\rightarrow B) = \\frac{\\text{Confianza}(A \\rightarrow B)}{\\text{Soporte}(B)}\n",
    "    $$\n",
    "\n",
    "   - **Explicación**: \n",
    "     - El lift mide la relación entre la ocurrencia de A y B en comparación con su ocurrencia esperada si fueran independientes. \n",
    "     - Un lift mayor a 1 indica que A y B ocurren juntos más a menudo de lo esperado si fueran independientes. \n",
    "     - Es útil para identificar relaciones significativas entre productos. \n",
    "     - Por ejemplo, si el lift de \"leche $\\rightarrow$ pan\" es 1.125, significa que los clientes que compran leche son 1.125 veces más propensos a comprar pan que el promedio de todos los clientes.\n"
   ]
  },
  {
   "cell_type": "markdown",
   "metadata": {},
   "source": [
    "### Ejemplo \n",
    "\n",
    "- Imaginemos que gestionas un pequeño supermercado y tienes los datos de las transacciones de los últimos meses. \n",
    "- Quieres analizar estos datos para descubrir patrones en las compras de tus clientes, es decir, qué productos suelen comprarse juntos."
   ]
  },
  {
   "cell_type": "markdown",
   "metadata": {},
   "source": [
    "### Datos\n",
    "\n",
    "Supongamos que tenemos las siguientes transacciones:\n",
    "\n",
    "- Transacción 1: Leche, Pan, Mantequilla\n",
    "- Transacción 2: Leche, Pan\n",
    "- Transacción 3: Leche, Manzana\n",
    "- Transacción 4: Pan, Mantequilla \n",
    "- Transacción 5: Leche, Pan, Mantequilla, Manzana \n",
    "- Transacción 6: Manzana, Mantequilla"
   ]
  },
  {
   "cell_type": "markdown",
   "metadata": {},
   "source": [
    "#### Paso 1: Crear la Matriz de Transacciones\n",
    "- Primero, representamos las transacciones en una matriz donde cada fila representa una transacción y cada columna representa un producto. \n",
    "- Usamos 1 para indicar que un producto se compró en esa transacción y 0 en caso contrario.\n",
    "\n",
    "|       | Leche | Pan | Mantequilla | Manzana |\n",
    "|-------|-------|-----|-------------|---------|\n",
    "| T1    | 1     | 1   | 1           | 0       |\n",
    "| T2    | 1     | 1   | 0           | 0       |\n",
    "| T3    | 1     | 0   | 0           | 1       |\n",
    "| T4    | 0     | 1   | 1           | 0       |\n",
    "| T5    | 1     | 1   | 1           | 1       |\n",
    "| T6    | 0     | 0   | 1           | 1       |\n"
   ]
  },
  {
   "cell_type": "markdown",
   "metadata": {},
   "source": [
    "#### Paso 2: Identificar Patrones Frecuentes\n",
    "\n",
    "- Para identificar patrones frecuentes, calculamos el soporte de cada combinación de productos.\n",
    "- El soporte es la proporción de transacciones en las que aparece una combinación de productos.\n",
    "\n",
    "Soporte: \n",
    "\n",
    "- **Soporte de $\\{Leche\\}$** = 4/6\n",
    "- **Soporte de $\\{Pan\\}$** = 4/6\n",
    "- **Soporte de $\\{Mantequilla\\}$** = 4/6\n",
    "- **Soporte de $\\{Manzana\\}$** = 3/6\n",
    "- **Soporte de $\\{Leche, Pan\\}$** = 3/6\n",
    "- **Soporte de $\\{Leche, Mantequilla\\}$** = 2/6\n",
    "- **Soporte de $\\{Pan, Mantequilla\\}$** = 3/6\n",
    "- **Soporte de $\\{Leche, Manzana\\}$** = 2/6\n",
    "- **Soporte de $\\{Pan, Manzana\\}$** = 1/6\n",
    "- **Soporte de $\\{Mantequilla, Manzana\\}$** = 2/6\n"
   ]
  },
  {
   "cell_type": "markdown",
   "metadata": {},
   "source": [
    "#### Paso 3: Generar Reglas de Asociación\n",
    "\n",
    "- Una vez identificados los patrones frecuentes, generamos reglas de asociación.\n",
    "- Estas reglas tienen la forma $A \\rightarrow B$, donde **A** (antecedente) y **B**  (consecuente) son conjuntos de productos.\n",
    "- Para cada regla, calculamos la confianza y el lift.\n",
    "- Una vez identificados los patrones frecuentes, generamos reglas de asociación. \n",
    "\n",
    "Reglas:\n",
    "\n",
    "  - **Regla**: $\\{Leche\\} -> \\{Pan\\}$\n",
    "    - $$Confianza = \\frac{\\text{Soporte}(\\{Leche, Pan\\})}{\\text{Soporte}(\\{Leche\\})} = \\frac{3/6}{4/6} = 0.75$$\n",
    "    - $$Lift = \\frac{\\text{Confianza}}{\\text{Soporte}(\\{Pan\\})} = \\frac{0.75}{4/6} = 1.125$$\n",
    "\n",
    "  - **Regla**: \\{Pan\\} -> \\{Leche\\}\n",
    "    - $$Confianza = \\frac{\\text{Soporte}(\\{Leche, Pan\\})}{\\text{Soporte}(\\{Pan\\})} = \\frac{3/6}{4/6} = 0.75$$\n",
    "    - $$Lift = \\frac{\\text{Confianza}}{\\text{Soporte}(\\{Leche\\})} = \\frac{0.75}{4/6} = 1.125$$\n"
   ]
  },
  {
   "cell_type": "markdown",
   "metadata": {},
   "source": [
    "#### Paso 4: Interpretación\n",
    "\n",
    "- La regla $\\{Leche\\} \\rightarrow \\{Pan\\}$ con una confianza de 0.75 significa que el 75% de las veces que los clientes compran leche, también compran pan.\n",
    "- Un lift de 1.125 indica una leve relación positiva entre la compra de leche y pan, sugiriendo que comprar leche aumenta la probabilidad de que también se compre pan.\n"
   ]
  },
  {
   "cell_type": "code",
   "execution_count": null,
   "metadata": {},
   "outputs": [
    {
     "name": "stdout",
     "output_type": "stream",
     "text": [
      "    Leche  Pan  Mantequilla  Manzana\n",
      "T1      1    1            1        0\n",
      "T2      1    1            0        0\n",
      "T3      1    0            0        1\n",
      "T4      0    1            1        0\n",
      "T5      1    1            1        1\n",
      "T6      0    0            1        1\n"
     ]
    }
   ],
   "source": [
    "import pandas as pd\n",
    "\n",
    "# Crear el dataframe con las transacciones\n",
    "data = {\n",
    "    'Leche': [1, 1, 1, 0, 1, 0],\n",
    "    'Pan': [1, 1, 0, 1, 1, 0],\n",
    "    'Mantequilla': [1, 0, 0, 1, 1, 1],\n",
    "    'Manzana': [0, 0, 1, 0, 1, 1]\n",
    "}\n",
    "\n",
    "df = pd.DataFrame(data, index=['T1', 'T2', 'T3', 'T4', 'T5', 'T6'])\n",
    "print(df)"
   ]
  }
 ],
 "metadata": {
  "kernelspec": {
   "display_name": "python3",
   "language": "python",
   "name": "python3"
  }
 },
 "nbformat": 4,
 "nbformat_minor": 2
}
