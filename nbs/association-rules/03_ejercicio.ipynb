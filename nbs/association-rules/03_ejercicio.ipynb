{
 "cells": [
  {
   "cell_type": "markdown",
   "metadata": {},
   "source": [
    "### Determine las reglas de asociación para el siguiente conjunto de transacciones\n",
    "\n",
    "\n",
    "\n",
    "1. `['Leche', 'Pan', 'Mantequilla']`\n",
    "2. `['Leche', 'Pan']`\n",
    "3. `['Leche', 'Manzana']`\n",
    "4. `['Pan', 'Mantequilla']`\n",
    "5. `['Leche', 'Pan', 'Mantequilla', 'Manzana']`\n",
    "6. `['Manzana', 'Mantequilla']`\n",
    "7. `['Leche', 'Manzana', 'Cereal']`\n",
    "8. `['Pan', 'Cereal']`\n",
    "9. `['Leche', 'Pan', 'Cereal']`\n",
    "10. `['Mantequilla', 'Manzana', 'Cereal']`\n",
    "11. `['Leche', 'Cereal', 'Galletas']`\n",
    "12. `['Pan', 'Galletas']`\n",
    "13. `['Leche', 'Pan', 'Galletas']`\n",
    "14. `['Manzana', 'Galletas']`\n",
    "15. `['Leche', 'Manzana', 'Galletas']`\n",
    "16. `['Pan', 'Mantequilla', 'Cereal']`\n",
    "17. `['Leche', 'Mantequilla', 'Cereal']`\n",
    "18. `['Leche', 'Pan', 'Manzana', 'Galletas']`\n",
    "19. `['Manzana', 'Mantequilla', 'Galletas']`\n",
    "20. `['Leche', 'Cereal', 'Manzana', 'Galletas']`"
   ]
  }
 ],
 "metadata": {
  "kernelspec": {
   "display_name": "python3",
   "language": "python",
   "name": "python3"
  }
 },
 "nbformat": 4,
 "nbformat_minor": 2
}
